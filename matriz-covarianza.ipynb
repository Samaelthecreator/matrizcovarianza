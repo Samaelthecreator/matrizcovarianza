{
 "cells": [
  {
   "cell_type": "markdown",
   "metadata": {},
   "source": []
  },
  {
   "cell_type": "markdown",
   "metadata": {},
   "source": [
    "Matriz de covarianza.\n"
   ]
  },
  {
   "cell_type": "code",
   "execution_count": 204,
   "metadata": {},
   "outputs": [],
   "source": [
    "#Creamos una serie de datos para calcular la matriz de covarianza\n",
    "import pandas as pd\n",
    "import numpy as np\n",
    "\n",
    "       #Si queremos capturar los datos desde terminal\n",
    "       \n",
    "#Definimos una función \n",
    "      \n",
    "def matriz():\n",
    "\n",
    "    h = input(\"Determina los encabezados separados por comas: \")       # Encabezados del dataframe\n",
    "    headers = h.split(',')\n",
    "# La matriz de covarianza debe ser cuadrada, construimos la matriz con los respectivos headers\n",
    "    data = pd.DataFrame(np.zeros((len(headers), len(headers))), columns=headers[:])\n",
    "# Solicitar al usuario ingresar los datos para cada header\n",
    "    for encabezado in headers[:]: data[encabezado] = [int(input(f\"Ingrese el dato para {encabezado} en la fila {i + 1}: \")) for i in range(len(headers))]\n",
    "\n",
    "    return data"
   ]
  },
  {
   "cell_type": "markdown",
   "metadata": {},
   "source": [
    "La covarianza es un valor que indiica el grado de variación conjunta de dos variables aleatorias respecto a sus medias.\n",
    "El signo de la covarianza expresa tendeencia en la relacion lineal entre las variables.\n",
    "La covarianza entre dos variables aleatorias $x$ y $y$ se define como:\n",
    "\n",
    "\n",
    "$cov(x,y) = E[(x-E[x])(y-E[y])]$\n",
    "\n",
    "\n",
    "donde $E[x]$ , $E[y]$ y $E[xy]$ son los valores esperados de las variables aleatorias $x,y$.\n",
    "\n",
    "Sí $x$ es un vector aleatorio de dimensión n, $x = (x_{1},x_{2}, ... , x_{n})$.\n",
    "La matriz de covarianza, denotada por $\\Sigma$ esta dada por;\n",
    "    \n",
    "$\\Sigma_{ij} = cov(x_{i},x_{j})$\n",
    "\n",
    "Sí $i=j$\n",
    "    \n",
    "$\\Sigma_{ii} = Var(x_{i},x_{i}) = \\sigma_{i}^2$\n",
    "\n",
    "La varianza es un caso particular de la covarianza."
   ]
  },
  {
   "cell_type": "code",
   "execution_count": 211,
   "metadata": {},
   "outputs": [],
   "source": [
    "\n",
    "#Creamos una función para calcular la matriz de covarianza\n",
    "\n",
    "def matrizcov(data):\n",
    "\n",
    "    matriz_covarianza = pd.DataFrame(np.zeros(data.shape))\n",
    "#obtenemos una matriz centralizada a partir de las medias\n",
    "    medias = list(data.mean())\n",
    "    datos_centralizados = pd.DataFrame([(data.iloc[i,]-medias[:]) for i in range(0,len(medias),1)])\n",
    "#calculamos la matriz de covarianzas\n",
    "    for j in range(0,len(medias),1):\n",
    "        matriz_covarianza.iloc[:,j] = [datos_centralizados.iloc[i,j]*datos_centralizados.iloc[j,i] for i in range(0,len(medias),1)]\n",
    "\n",
    "    return matriz_covarianza\n",
    "\n"
   ]
  }
 ],
 "metadata": {
  "kernelspec": {
   "display_name": "base",
   "language": "python",
   "name": "python3"
  },
  "language_info": {
   "codemirror_mode": {
    "name": "ipython",
    "version": 3
   },
   "file_extension": ".py",
   "mimetype": "text/x-python",
   "name": "python",
   "nbconvert_exporter": "python",
   "pygments_lexer": "ipython3",
   "version": "3.9.13"
  }
 },
 "nbformat": 4,
 "nbformat_minor": 2
}
